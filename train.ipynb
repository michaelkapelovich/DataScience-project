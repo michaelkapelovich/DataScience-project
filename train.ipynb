{
 "cells": [
  {
   "attachments": {},
   "cell_type": "markdown",
   "metadata": {},
   "source": [
    "# Training And Eval"
   ]
  },
  {
   "cell_type": "code",
   "execution_count": 31,
   "metadata": {},
   "outputs": [],
   "source": [
    "import pandas as pd\n",
    "import numpy as np\n",
    "from sklearn.model_selection import train_test_split\n",
    "import xgboost as xgb\n",
    "from sklearn.metrics import mean_squared_error, mean_absolute_error, r2_score, mean_absolute_percentage_error\n",
    "from skopt import BayesSearchCV\n",
    "from skopt.space import Real, Categorical, Integer\n",
    "from sklearn.preprocessing import LabelEncoder\n",
    "import shap\n",
    "import matplotlib.pyplot as plt"
   ]
  },
  {
   "cell_type": "code",
   "execution_count": 2,
   "metadata": {},
   "outputs": [
    {
     "data": {
      "text/plain": [
       "(22469, 36)"
      ]
     },
     "execution_count": 2,
     "metadata": {},
     "output_type": "execute_result"
    }
   ],
   "source": [
    "df = pd.read_csv('processed_player_data.csv')\n",
    "df.shape"
   ]
  },
  {
   "cell_type": "code",
   "execution_count": 3,
   "metadata": {},
   "outputs": [
    {
     "data": {
      "text/html": [
       "<div>\n",
       "<style scoped>\n",
       "    .dataframe tbody tr th:only-of-type {\n",
       "        vertical-align: middle;\n",
       "    }\n",
       "\n",
       "    .dataframe tbody tr th {\n",
       "        vertical-align: top;\n",
       "    }\n",
       "\n",
       "    .dataframe thead th {\n",
       "        text-align: right;\n",
       "    }\n",
       "</style>\n",
       "<table border=\"1\" class=\"dataframe\">\n",
       "  <thead>\n",
       "    <tr style=\"text-align: right;\">\n",
       "      <th></th>\n",
       "      <th>Unnamed: 0</th>\n",
       "      <th>Age</th>\n",
       "      <th>Nationality</th>\n",
       "      <th>Height</th>\n",
       "      <th>Weight</th>\n",
       "      <th>Team</th>\n",
       "      <th>Skill</th>\n",
       "      <th>Pot</th>\n",
       "      <th>Current_Fee</th>\n",
       "      <th>Highest_xTV</th>\n",
       "      <th>...</th>\n",
       "      <th>Offsides</th>\n",
       "      <th>Ball_Recoveries</th>\n",
       "      <th>Ball_Recoveries_Opponent</th>\n",
       "      <th>Challenges</th>\n",
       "      <th>Air_Challenges</th>\n",
       "      <th>Tackles</th>\n",
       "      <th>Ball_Interceptions</th>\n",
       "      <th>Lost_Balls</th>\n",
       "      <th>Lost_Balls_Own</th>\n",
       "      <th>Errors_to_Goal</th>\n",
       "    </tr>\n",
       "  </thead>\n",
       "  <tbody>\n",
       "    <tr>\n",
       "      <th>0</th>\n",
       "      <td>0</td>\n",
       "      <td>24</td>\n",
       "      <td>FRA</td>\n",
       "      <td>178.0</td>\n",
       "      <td>75.0</td>\n",
       "      <td>PSG</td>\n",
       "      <td>90.2</td>\n",
       "      <td>99.5</td>\n",
       "      <td>136000000.0</td>\n",
       "      <td>162500000.0</td>\n",
       "      <td>...</td>\n",
       "      <td>42</td>\n",
       "      <td>25</td>\n",
       "      <td>12</td>\n",
       "      <td>631.0</td>\n",
       "      <td>27</td>\n",
       "      <td>32</td>\n",
       "      <td>28</td>\n",
       "      <td>413</td>\n",
       "      <td>33</td>\n",
       "      <td>0</td>\n",
       "    </tr>\n",
       "    <tr>\n",
       "      <th>1</th>\n",
       "      <td>1</td>\n",
       "      <td>22</td>\n",
       "      <td>NOR</td>\n",
       "      <td>195.0</td>\n",
       "      <td>88.0</td>\n",
       "      <td>Man City</td>\n",
       "      <td>92.0</td>\n",
       "      <td>100.0</td>\n",
       "      <td>133600000.0</td>\n",
       "      <td>150000000.0</td>\n",
       "      <td>...</td>\n",
       "      <td>11</td>\n",
       "      <td>22</td>\n",
       "      <td>14</td>\n",
       "      <td>482.0</td>\n",
       "      <td>170</td>\n",
       "      <td>27</td>\n",
       "      <td>39</td>\n",
       "      <td>243</td>\n",
       "      <td>42</td>\n",
       "      <td>1</td>\n",
       "    </tr>\n",
       "    <tr>\n",
       "      <th>2</th>\n",
       "      <td>2</td>\n",
       "      <td>22</td>\n",
       "      <td>BRA</td>\n",
       "      <td>176.0</td>\n",
       "      <td>73.0</td>\n",
       "      <td>Real Madrid</td>\n",
       "      <td>82.7</td>\n",
       "      <td>94.9</td>\n",
       "      <td>113800000.0</td>\n",
       "      <td>129100000.0</td>\n",
       "      <td>...</td>\n",
       "      <td>27</td>\n",
       "      <td>50</td>\n",
       "      <td>26</td>\n",
       "      <td>883.0</td>\n",
       "      <td>31</td>\n",
       "      <td>101</td>\n",
       "      <td>53</td>\n",
       "      <td>501</td>\n",
       "      <td>55</td>\n",
       "      <td>1</td>\n",
       "    </tr>\n",
       "    <tr>\n",
       "      <th>3</th>\n",
       "      <td>3</td>\n",
       "      <td>23</td>\n",
       "      <td>ENG</td>\n",
       "      <td>171.0</td>\n",
       "      <td>70.0</td>\n",
       "      <td>Man City</td>\n",
       "      <td>91.1</td>\n",
       "      <td>100.0</td>\n",
       "      <td>103700000.0</td>\n",
       "      <td>138600000.0</td>\n",
       "      <td>...</td>\n",
       "      <td>8</td>\n",
       "      <td>45</td>\n",
       "      <td>13</td>\n",
       "      <td>341.0</td>\n",
       "      <td>58</td>\n",
       "      <td>41</td>\n",
       "      <td>58</td>\n",
       "      <td>192</td>\n",
       "      <td>23</td>\n",
       "      <td>0</td>\n",
       "    </tr>\n",
       "    <tr>\n",
       "      <th>4</th>\n",
       "      <td>4</td>\n",
       "      <td>19</td>\n",
       "      <td>ENG</td>\n",
       "      <td>186.0</td>\n",
       "      <td>75.0</td>\n",
       "      <td>Dortmund</td>\n",
       "      <td>71.8</td>\n",
       "      <td>98.3</td>\n",
       "      <td>100000000.0</td>\n",
       "      <td>100000000.0</td>\n",
       "      <td>...</td>\n",
       "      <td>3</td>\n",
       "      <td>140</td>\n",
       "      <td>57</td>\n",
       "      <td>774.0</td>\n",
       "      <td>117</td>\n",
       "      <td>126</td>\n",
       "      <td>196</td>\n",
       "      <td>325</td>\n",
       "      <td>58</td>\n",
       "      <td>3</td>\n",
       "    </tr>\n",
       "  </tbody>\n",
       "</table>\n",
       "<p>5 rows × 36 columns</p>\n",
       "</div>"
      ],
      "text/plain": [
       "   Unnamed: 0  Age Nationality  Height  Weight         Team  Skill    Pot  \\\n",
       "0           0   24         FRA   178.0    75.0          PSG   90.2   99.5   \n",
       "1           1   22         NOR   195.0    88.0     Man City   92.0  100.0   \n",
       "2           2   22         BRA   176.0    73.0  Real Madrid   82.7   94.9   \n",
       "3           3   23         ENG   171.0    70.0     Man City   91.1  100.0   \n",
       "4           4   19         ENG   186.0    75.0     Dortmund   71.8   98.3   \n",
       "\n",
       "   Current_Fee  Highest_xTV  ...  Offsides Ball_Recoveries  \\\n",
       "0  136000000.0  162500000.0  ...        42              25   \n",
       "1  133600000.0  150000000.0  ...        11              22   \n",
       "2  113800000.0  129100000.0  ...        27              50   \n",
       "3  103700000.0  138600000.0  ...         8              45   \n",
       "4  100000000.0  100000000.0  ...         3             140   \n",
       "\n",
       "  Ball_Recoveries_Opponent  Challenges  Air_Challenges  Tackles  \\\n",
       "0                       12       631.0              27       32   \n",
       "1                       14       482.0             170       27   \n",
       "2                       26       883.0              31      101   \n",
       "3                       13       341.0              58       41   \n",
       "4                       57       774.0             117      126   \n",
       "\n",
       "   Ball_Interceptions  Lost_Balls  Lost_Balls_Own  Errors_to_Goal  \n",
       "0                  28         413              33               0  \n",
       "1                  39         243              42               1  \n",
       "2                  53         501              55               1  \n",
       "3                  58         192              23               0  \n",
       "4                 196         325              58               3  \n",
       "\n",
       "[5 rows x 36 columns]"
      ]
     },
     "execution_count": 3,
     "metadata": {},
     "output_type": "execute_result"
    }
   ],
   "source": [
    "df.head()"
   ]
  },
  {
   "cell_type": "code",
   "execution_count": 4,
   "metadata": {},
   "outputs": [],
   "source": [
    "df = df.drop('Unnamed: 0', axis=1)"
   ]
  },
  {
   "cell_type": "code",
   "execution_count": 5,
   "metadata": {},
   "outputs": [],
   "source": [
    "for column in df.select_dtypes(include=[object]):\n",
    "    le = LabelEncoder()\n",
    "    df[column] = le.fit_transform(df[column])"
   ]
  },
  {
   "cell_type": "code",
   "execution_count": 6,
   "metadata": {},
   "outputs": [
    {
     "name": "stdout",
     "output_type": "stream",
     "text": [
      "[]\n"
     ]
    }
   ],
   "source": [
    "cat_features = []\n",
    "for column in df.columns:\n",
    "    if df[column].dtype == 'object':\n",
    "        cat_features.append(column)\n",
    "print(cat_features)        "
   ]
  },
  {
   "cell_type": "code",
   "execution_count": 7,
   "metadata": {},
   "outputs": [
    {
     "name": "stdout",
     "output_type": "stream",
     "text": [
      "<class 'pandas.core.frame.DataFrame'>\n",
      "RangeIndex: 22469 entries, 0 to 22468\n",
      "Data columns (total 35 columns):\n",
      " #   Column                    Non-Null Count  Dtype  \n",
      "---  ------                    --------------  -----  \n",
      " 0   Age                       22469 non-null  int64  \n",
      " 1   Nationality               22469 non-null  int32  \n",
      " 2   Height                    20549 non-null  float64\n",
      " 3   Weight                    16547 non-null  float64\n",
      " 4   Team                      22469 non-null  int32  \n",
      " 5   Skill                     22469 non-null  float64\n",
      " 6   Pot                       22469 non-null  float64\n",
      " 7   Current_Fee               22469 non-null  float64\n",
      " 8   Highest_xTV               22469 non-null  float64\n",
      " 9   num_trophies              22469 non-null  int64  \n",
      " 10  Preferred_foot            22469 non-null  int32  \n",
      " 11  Best_Playing_Role         22469 non-null  int32  \n",
      " 12  Matches_played            22469 non-null  int64  \n",
      " 13  Minutes_played            22469 non-null  float64\n",
      " 14  Goals                     22469 non-null  int64  \n",
      " 15  Assists                   22469 non-null  int64  \n",
      " 16  Yellow_Cards              22469 non-null  int64  \n",
      " 17  Red_Cards                 22469 non-null  int64  \n",
      " 18  Shots                     22469 non-null  float64\n",
      " 19  Penalties                 22469 non-null  int64  \n",
      " 20  Expected_Goals            22469 non-null  int64  \n",
      " 21  Attacking_Challenges      22469 non-null  float64\n",
      " 22  Passes                    22469 non-null  float64\n",
      " 23  Key_Passes                22469 non-null  int64  \n",
      " 24  Crosses                   22469 non-null  int64  \n",
      " 25  Offsides                  22469 non-null  int64  \n",
      " 26  Ball_Recoveries           22469 non-null  int64  \n",
      " 27  Ball_Recoveries_Opponent  22469 non-null  int64  \n",
      " 28  Challenges                22469 non-null  float64\n",
      " 29  Air_Challenges            22469 non-null  int64  \n",
      " 30  Tackles                   22469 non-null  int64  \n",
      " 31  Ball_Interceptions        22469 non-null  int64  \n",
      " 32  Lost_Balls                22469 non-null  int64  \n",
      " 33  Lost_Balls_Own            22469 non-null  int64  \n",
      " 34  Errors_to_Goal            22469 non-null  int64  \n",
      "dtypes: float64(11), int32(4), int64(20)\n",
      "memory usage: 5.7 MB\n"
     ]
    }
   ],
   "source": [
    "df.info()"
   ]
  },
  {
   "attachments": {},
   "cell_type": "markdown",
   "metadata": {},
   "source": [
    "## Train And Test Splits"
   ]
  },
  {
   "cell_type": "code",
   "execution_count": 8,
   "metadata": {},
   "outputs": [
    {
     "data": {
      "text/html": [
       "<div>\n",
       "<style scoped>\n",
       "    .dataframe tbody tr th:only-of-type {\n",
       "        vertical-align: middle;\n",
       "    }\n",
       "\n",
       "    .dataframe tbody tr th {\n",
       "        vertical-align: top;\n",
       "    }\n",
       "\n",
       "    .dataframe thead th {\n",
       "        text-align: right;\n",
       "    }\n",
       "</style>\n",
       "<table border=\"1\" class=\"dataframe\">\n",
       "  <thead>\n",
       "    <tr style=\"text-align: right;\">\n",
       "      <th></th>\n",
       "      <th>Age</th>\n",
       "      <th>Nationality</th>\n",
       "      <th>Height</th>\n",
       "      <th>Weight</th>\n",
       "      <th>Team</th>\n",
       "      <th>Skill</th>\n",
       "      <th>Pot</th>\n",
       "      <th>Current_Fee</th>\n",
       "      <th>num_trophies</th>\n",
       "      <th>Preferred_foot</th>\n",
       "      <th>...</th>\n",
       "      <th>Offsides</th>\n",
       "      <th>Ball_Recoveries</th>\n",
       "      <th>Ball_Recoveries_Opponent</th>\n",
       "      <th>Challenges</th>\n",
       "      <th>Air_Challenges</th>\n",
       "      <th>Tackles</th>\n",
       "      <th>Ball_Interceptions</th>\n",
       "      <th>Lost_Balls</th>\n",
       "      <th>Lost_Balls_Own</th>\n",
       "      <th>Errors_to_Goal</th>\n",
       "    </tr>\n",
       "  </thead>\n",
       "  <tbody>\n",
       "    <tr>\n",
       "      <th>0</th>\n",
       "      <td>24</td>\n",
       "      <td>49</td>\n",
       "      <td>178.0</td>\n",
       "      <td>75.0</td>\n",
       "      <td>728</td>\n",
       "      <td>90.2</td>\n",
       "      <td>99.5</td>\n",
       "      <td>18.728165</td>\n",
       "      <td>12</td>\n",
       "      <td>2</td>\n",
       "      <td>...</td>\n",
       "      <td>42</td>\n",
       "      <td>25</td>\n",
       "      <td>12</td>\n",
       "      <td>631.0</td>\n",
       "      <td>27</td>\n",
       "      <td>32</td>\n",
       "      <td>28</td>\n",
       "      <td>413</td>\n",
       "      <td>33</td>\n",
       "      <td>0</td>\n",
       "    </tr>\n",
       "    <tr>\n",
       "      <th>1</th>\n",
       "      <td>22</td>\n",
       "      <td>110</td>\n",
       "      <td>195.0</td>\n",
       "      <td>88.0</td>\n",
       "      <td>620</td>\n",
       "      <td>92.0</td>\n",
       "      <td>100.0</td>\n",
       "      <td>18.710361</td>\n",
       "      <td>12</td>\n",
       "      <td>1</td>\n",
       "      <td>...</td>\n",
       "      <td>11</td>\n",
       "      <td>22</td>\n",
       "      <td>14</td>\n",
       "      <td>482.0</td>\n",
       "      <td>170</td>\n",
       "      <td>27</td>\n",
       "      <td>39</td>\n",
       "      <td>243</td>\n",
       "      <td>42</td>\n",
       "      <td>1</td>\n",
       "    </tr>\n",
       "    <tr>\n",
       "      <th>2</th>\n",
       "      <td>22</td>\n",
       "      <td>21</td>\n",
       "      <td>176.0</td>\n",
       "      <td>73.0</td>\n",
       "      <td>811</td>\n",
       "      <td>82.7</td>\n",
       "      <td>94.9</td>\n",
       "      <td>18.549953</td>\n",
       "      <td>17</td>\n",
       "      <td>2</td>\n",
       "      <td>...</td>\n",
       "      <td>27</td>\n",
       "      <td>50</td>\n",
       "      <td>26</td>\n",
       "      <td>883.0</td>\n",
       "      <td>31</td>\n",
       "      <td>101</td>\n",
       "      <td>53</td>\n",
       "      <td>501</td>\n",
       "      <td>55</td>\n",
       "      <td>1</td>\n",
       "    </tr>\n",
       "    <tr>\n",
       "      <th>3</th>\n",
       "      <td>23</td>\n",
       "      <td>44</td>\n",
       "      <td>171.0</td>\n",
       "      <td>70.0</td>\n",
       "      <td>620</td>\n",
       "      <td>91.1</td>\n",
       "      <td>100.0</td>\n",
       "      <td>18.457013</td>\n",
       "      <td>10</td>\n",
       "      <td>1</td>\n",
       "      <td>...</td>\n",
       "      <td>8</td>\n",
       "      <td>45</td>\n",
       "      <td>13</td>\n",
       "      <td>341.0</td>\n",
       "      <td>58</td>\n",
       "      <td>41</td>\n",
       "      <td>58</td>\n",
       "      <td>192</td>\n",
       "      <td>23</td>\n",
       "      <td>0</td>\n",
       "    </tr>\n",
       "    <tr>\n",
       "      <th>4</th>\n",
       "      <td>19</td>\n",
       "      <td>44</td>\n",
       "      <td>186.0</td>\n",
       "      <td>75.0</td>\n",
       "      <td>302</td>\n",
       "      <td>71.8</td>\n",
       "      <td>98.3</td>\n",
       "      <td>18.420681</td>\n",
       "      <td>14</td>\n",
       "      <td>2</td>\n",
       "      <td>...</td>\n",
       "      <td>3</td>\n",
       "      <td>140</td>\n",
       "      <td>57</td>\n",
       "      <td>774.0</td>\n",
       "      <td>117</td>\n",
       "      <td>126</td>\n",
       "      <td>196</td>\n",
       "      <td>325</td>\n",
       "      <td>58</td>\n",
       "      <td>3</td>\n",
       "    </tr>\n",
       "  </tbody>\n",
       "</table>\n",
       "<p>5 rows × 34 columns</p>\n",
       "</div>"
      ],
      "text/plain": [
       "   Age  Nationality  Height  Weight  Team  Skill    Pot  Current_Fee  \\\n",
       "0   24           49   178.0    75.0   728   90.2   99.5    18.728165   \n",
       "1   22          110   195.0    88.0   620   92.0  100.0    18.710361   \n",
       "2   22           21   176.0    73.0   811   82.7   94.9    18.549953   \n",
       "3   23           44   171.0    70.0   620   91.1  100.0    18.457013   \n",
       "4   19           44   186.0    75.0   302   71.8   98.3    18.420681   \n",
       "\n",
       "   num_trophies  Preferred_foot  ...  Offsides  Ball_Recoveries  \\\n",
       "0            12               2  ...        42               25   \n",
       "1            12               1  ...        11               22   \n",
       "2            17               2  ...        27               50   \n",
       "3            10               1  ...         8               45   \n",
       "4            14               2  ...         3              140   \n",
       "\n",
       "   Ball_Recoveries_Opponent  Challenges  Air_Challenges  Tackles  \\\n",
       "0                        12       631.0              27       32   \n",
       "1                        14       482.0             170       27   \n",
       "2                        26       883.0              31      101   \n",
       "3                        13       341.0              58       41   \n",
       "4                        57       774.0             117      126   \n",
       "\n",
       "   Ball_Interceptions  Lost_Balls  Lost_Balls_Own  Errors_to_Goal  \n",
       "0                  28         413              33               0  \n",
       "1                  39         243              42               1  \n",
       "2                  53         501              55               1  \n",
       "3                  58         192              23               0  \n",
       "4                 196         325              58               3  \n",
       "\n",
       "[5 rows x 34 columns]"
      ]
     },
     "execution_count": 8,
     "metadata": {},
     "output_type": "execute_result"
    }
   ],
   "source": [
    "y = df['Highest_xTV']\n",
    "X = df.drop(['Highest_xTV'], axis=1)\n",
    "X['Current_Fee'] = np.log1p(X['Current_Fee'], dtype=np.float64)\n",
    "X.head()"
   ]
  },
  {
   "cell_type": "code",
   "execution_count": 9,
   "metadata": {},
   "outputs": [],
   "source": [
    "X_train, X_test, y_train, y_test = train_test_split(X, y, test_size=0.2, shuffle=False, random_state=42)"
   ]
  },
  {
   "cell_type": "code",
   "execution_count": 10,
   "metadata": {},
   "outputs": [
    {
     "data": {
      "text/html": [
       "<div>\n",
       "<style scoped>\n",
       "    .dataframe tbody tr th:only-of-type {\n",
       "        vertical-align: middle;\n",
       "    }\n",
       "\n",
       "    .dataframe tbody tr th {\n",
       "        vertical-align: top;\n",
       "    }\n",
       "\n",
       "    .dataframe thead th {\n",
       "        text-align: right;\n",
       "    }\n",
       "</style>\n",
       "<table border=\"1\" class=\"dataframe\">\n",
       "  <thead>\n",
       "    <tr style=\"text-align: right;\">\n",
       "      <th></th>\n",
       "      <th>Age</th>\n",
       "      <th>Nationality</th>\n",
       "      <th>Height</th>\n",
       "      <th>Weight</th>\n",
       "      <th>Team</th>\n",
       "      <th>Skill</th>\n",
       "      <th>Pot</th>\n",
       "      <th>Current_Fee</th>\n",
       "      <th>num_trophies</th>\n",
       "      <th>Preferred_foot</th>\n",
       "      <th>...</th>\n",
       "      <th>Offsides</th>\n",
       "      <th>Ball_Recoveries</th>\n",
       "      <th>Ball_Recoveries_Opponent</th>\n",
       "      <th>Challenges</th>\n",
       "      <th>Air_Challenges</th>\n",
       "      <th>Tackles</th>\n",
       "      <th>Ball_Interceptions</th>\n",
       "      <th>Lost_Balls</th>\n",
       "      <th>Lost_Balls_Own</th>\n",
       "      <th>Errors_to_Goal</th>\n",
       "    </tr>\n",
       "  </thead>\n",
       "  <tbody>\n",
       "    <tr>\n",
       "      <th>17975</th>\n",
       "      <td>29</td>\n",
       "      <td>124</td>\n",
       "      <td>192.0</td>\n",
       "      <td>82.0</td>\n",
       "      <td>337</td>\n",
       "      <td>52.9</td>\n",
       "      <td>53.5</td>\n",
       "      <td>11.512935</td>\n",
       "      <td>0</td>\n",
       "      <td>0</td>\n",
       "      <td>...</td>\n",
       "      <td>0</td>\n",
       "      <td>40</td>\n",
       "      <td>0</td>\n",
       "      <td>3.0</td>\n",
       "      <td>2</td>\n",
       "      <td>1</td>\n",
       "      <td>17</td>\n",
       "      <td>22</td>\n",
       "      <td>4</td>\n",
       "      <td>3</td>\n",
       "    </tr>\n",
       "    <tr>\n",
       "      <th>17976</th>\n",
       "      <td>28</td>\n",
       "      <td>34</td>\n",
       "      <td>178.0</td>\n",
       "      <td>73.0</td>\n",
       "      <td>824</td>\n",
       "      <td>50.4</td>\n",
       "      <td>50.4</td>\n",
       "      <td>11.512935</td>\n",
       "      <td>0</td>\n",
       "      <td>2</td>\n",
       "      <td>...</td>\n",
       "      <td>1</td>\n",
       "      <td>76</td>\n",
       "      <td>13</td>\n",
       "      <td>205.0</td>\n",
       "      <td>53</td>\n",
       "      <td>35</td>\n",
       "      <td>101</td>\n",
       "      <td>132</td>\n",
       "      <td>24</td>\n",
       "      <td>3</td>\n",
       "    </tr>\n",
       "    <tr>\n",
       "      <th>17977</th>\n",
       "      <td>22</td>\n",
       "      <td>74</td>\n",
       "      <td>180.0</td>\n",
       "      <td>NaN</td>\n",
       "      <td>252</td>\n",
       "      <td>46.3</td>\n",
       "      <td>54.5</td>\n",
       "      <td>11.512935</td>\n",
       "      <td>0</td>\n",
       "      <td>2</td>\n",
       "      <td>...</td>\n",
       "      <td>0</td>\n",
       "      <td>15</td>\n",
       "      <td>6</td>\n",
       "      <td>79.0</td>\n",
       "      <td>22</td>\n",
       "      <td>18</td>\n",
       "      <td>12</td>\n",
       "      <td>38</td>\n",
       "      <td>9</td>\n",
       "      <td>0</td>\n",
       "    </tr>\n",
       "    <tr>\n",
       "      <th>17978</th>\n",
       "      <td>22</td>\n",
       "      <td>124</td>\n",
       "      <td>188.0</td>\n",
       "      <td>73.0</td>\n",
       "      <td>1040</td>\n",
       "      <td>50.4</td>\n",
       "      <td>60.4</td>\n",
       "      <td>11.512935</td>\n",
       "      <td>0</td>\n",
       "      <td>1</td>\n",
       "      <td>...</td>\n",
       "      <td>0</td>\n",
       "      <td>5</td>\n",
       "      <td>1</td>\n",
       "      <td>14.0</td>\n",
       "      <td>5</td>\n",
       "      <td>4</td>\n",
       "      <td>7</td>\n",
       "      <td>6</td>\n",
       "      <td>4</td>\n",
       "      <td>0</td>\n",
       "    </tr>\n",
       "    <tr>\n",
       "      <th>17979</th>\n",
       "      <td>26</td>\n",
       "      <td>126</td>\n",
       "      <td>177.0</td>\n",
       "      <td>66.0</td>\n",
       "      <td>309</td>\n",
       "      <td>45.3</td>\n",
       "      <td>46.1</td>\n",
       "      <td>11.512935</td>\n",
       "      <td>0</td>\n",
       "      <td>2</td>\n",
       "      <td>...</td>\n",
       "      <td>3</td>\n",
       "      <td>4</td>\n",
       "      <td>2</td>\n",
       "      <td>73.0</td>\n",
       "      <td>20</td>\n",
       "      <td>3</td>\n",
       "      <td>9</td>\n",
       "      <td>33</td>\n",
       "      <td>4</td>\n",
       "      <td>0</td>\n",
       "    </tr>\n",
       "  </tbody>\n",
       "</table>\n",
       "<p>5 rows × 34 columns</p>\n",
       "</div>"
      ],
      "text/plain": [
       "       Age  Nationality  Height  Weight  Team  Skill   Pot  Current_Fee  \\\n",
       "17975   29          124   192.0    82.0   337   52.9  53.5    11.512935   \n",
       "17976   28           34   178.0    73.0   824   50.4  50.4    11.512935   \n",
       "17977   22           74   180.0     NaN   252   46.3  54.5    11.512935   \n",
       "17978   22          124   188.0    73.0  1040   50.4  60.4    11.512935   \n",
       "17979   26          126   177.0    66.0   309   45.3  46.1    11.512935   \n",
       "\n",
       "       num_trophies  Preferred_foot  ...  Offsides  Ball_Recoveries  \\\n",
       "17975             0               0  ...         0               40   \n",
       "17976             0               2  ...         1               76   \n",
       "17977             0               2  ...         0               15   \n",
       "17978             0               1  ...         0                5   \n",
       "17979             0               2  ...         3                4   \n",
       "\n",
       "       Ball_Recoveries_Opponent  Challenges  Air_Challenges  Tackles  \\\n",
       "17975                         0         3.0               2        1   \n",
       "17976                        13       205.0              53       35   \n",
       "17977                         6        79.0              22       18   \n",
       "17978                         1        14.0               5        4   \n",
       "17979                         2        73.0              20        3   \n",
       "\n",
       "       Ball_Interceptions  Lost_Balls  Lost_Balls_Own  Errors_to_Goal  \n",
       "17975                  17          22               4               3  \n",
       "17976                 101         132              24               3  \n",
       "17977                  12          38               9               0  \n",
       "17978                   7           6               4               0  \n",
       "17979                   9          33               4               0  \n",
       "\n",
       "[5 rows x 34 columns]"
      ]
     },
     "execution_count": 10,
     "metadata": {},
     "output_type": "execute_result"
    }
   ],
   "source": [
    "X_test.head()"
   ]
  },
  {
   "attachments": {},
   "cell_type": "markdown",
   "metadata": {},
   "source": [
    "## Baseline Model"
   ]
  },
  {
   "cell_type": "code",
   "execution_count": 11,
   "metadata": {},
   "outputs": [],
   "source": [
    "y_train_log = np.log1p(y_train, dtype=np.float64)"
   ]
  },
  {
   "cell_type": "code",
   "execution_count": 12,
   "metadata": {},
   "outputs": [
    {
     "data": {
      "text/html": [
       "<style>#sk-container-id-1 {color: black;background-color: white;}#sk-container-id-1 pre{padding: 0;}#sk-container-id-1 div.sk-toggleable {background-color: white;}#sk-container-id-1 label.sk-toggleable__label {cursor: pointer;display: block;width: 100%;margin-bottom: 0;padding: 0.3em;box-sizing: border-box;text-align: center;}#sk-container-id-1 label.sk-toggleable__label-arrow:before {content: \"▸\";float: left;margin-right: 0.25em;color: #696969;}#sk-container-id-1 label.sk-toggleable__label-arrow:hover:before {color: black;}#sk-container-id-1 div.sk-estimator:hover label.sk-toggleable__label-arrow:before {color: black;}#sk-container-id-1 div.sk-toggleable__content {max-height: 0;max-width: 0;overflow: hidden;text-align: left;background-color: #f0f8ff;}#sk-container-id-1 div.sk-toggleable__content pre {margin: 0.2em;color: black;border-radius: 0.25em;background-color: #f0f8ff;}#sk-container-id-1 input.sk-toggleable__control:checked~div.sk-toggleable__content {max-height: 200px;max-width: 100%;overflow: auto;}#sk-container-id-1 input.sk-toggleable__control:checked~label.sk-toggleable__label-arrow:before {content: \"▾\";}#sk-container-id-1 div.sk-estimator input.sk-toggleable__control:checked~label.sk-toggleable__label {background-color: #d4ebff;}#sk-container-id-1 div.sk-label input.sk-toggleable__control:checked~label.sk-toggleable__label {background-color: #d4ebff;}#sk-container-id-1 input.sk-hidden--visually {border: 0;clip: rect(1px 1px 1px 1px);clip: rect(1px, 1px, 1px, 1px);height: 1px;margin: -1px;overflow: hidden;padding: 0;position: absolute;width: 1px;}#sk-container-id-1 div.sk-estimator {font-family: monospace;background-color: #f0f8ff;border: 1px dotted black;border-radius: 0.25em;box-sizing: border-box;margin-bottom: 0.5em;}#sk-container-id-1 div.sk-estimator:hover {background-color: #d4ebff;}#sk-container-id-1 div.sk-parallel-item::after {content: \"\";width: 100%;border-bottom: 1px solid gray;flex-grow: 1;}#sk-container-id-1 div.sk-label:hover label.sk-toggleable__label {background-color: #d4ebff;}#sk-container-id-1 div.sk-serial::before {content: \"\";position: absolute;border-left: 1px solid gray;box-sizing: border-box;top: 0;bottom: 0;left: 50%;z-index: 0;}#sk-container-id-1 div.sk-serial {display: flex;flex-direction: column;align-items: center;background-color: white;padding-right: 0.2em;padding-left: 0.2em;position: relative;}#sk-container-id-1 div.sk-item {position: relative;z-index: 1;}#sk-container-id-1 div.sk-parallel {display: flex;align-items: stretch;justify-content: center;background-color: white;position: relative;}#sk-container-id-1 div.sk-item::before, #sk-container-id-1 div.sk-parallel-item::before {content: \"\";position: absolute;border-left: 1px solid gray;box-sizing: border-box;top: 0;bottom: 0;left: 50%;z-index: -1;}#sk-container-id-1 div.sk-parallel-item {display: flex;flex-direction: column;z-index: 1;position: relative;background-color: white;}#sk-container-id-1 div.sk-parallel-item:first-child::after {align-self: flex-end;width: 50%;}#sk-container-id-1 div.sk-parallel-item:last-child::after {align-self: flex-start;width: 50%;}#sk-container-id-1 div.sk-parallel-item:only-child::after {width: 0;}#sk-container-id-1 div.sk-dashed-wrapped {border: 1px dashed gray;margin: 0 0.4em 0.5em 0.4em;box-sizing: border-box;padding-bottom: 0.4em;background-color: white;}#sk-container-id-1 div.sk-label label {font-family: monospace;font-weight: bold;display: inline-block;line-height: 1.2em;}#sk-container-id-1 div.sk-label-container {text-align: center;}#sk-container-id-1 div.sk-container {/* jupyter's `normalize.less` sets `[hidden] { display: none; }` but bootstrap.min.css set `[hidden] { display: none !important; }` so we also need the `!important` here to be able to override the default hidden behavior on the sphinx rendered scikit-learn.org. See: https://github.com/scikit-learn/scikit-learn/issues/21755 */display: inline-block !important;position: relative;}#sk-container-id-1 div.sk-text-repr-fallback {display: none;}</style><div id=\"sk-container-id-1\" class=\"sk-top-container\"><div class=\"sk-text-repr-fallback\"><pre>XGBRegressor(base_score=None, booster=None, callbacks=None,\n",
       "             colsample_bylevel=None, colsample_bynode=None,\n",
       "             colsample_bytree=None, early_stopping_rounds=None,\n",
       "             enable_categorical=False, eval_metric=&#x27;rmsle&#x27;, feature_types=None,\n",
       "             gamma=None, gpu_id=None, grow_policy=None, importance_type=None,\n",
       "             interaction_constraints=None, learning_rate=None, max_bin=None,\n",
       "             max_cat_threshold=None, max_cat_to_onehot=None,\n",
       "             max_delta_step=None, max_depth=None, max_leaves=None,\n",
       "             min_child_weight=None, missing=nan, monotone_constraints=None,\n",
       "             n_estimators=100, n_jobs=None, num_parallel_tree=None,\n",
       "             objective=&#x27;reg:squaredlogerror&#x27;, predictor=None, ...)</pre><b>In a Jupyter environment, please rerun this cell to show the HTML representation or trust the notebook. <br />On GitHub, the HTML representation is unable to render, please try loading this page with nbviewer.org.</b></div><div class=\"sk-container\" hidden><div class=\"sk-item\"><div class=\"sk-estimator sk-toggleable\"><input class=\"sk-toggleable__control sk-hidden--visually\" id=\"sk-estimator-id-1\" type=\"checkbox\" checked><label for=\"sk-estimator-id-1\" class=\"sk-toggleable__label sk-toggleable__label-arrow\">XGBRegressor</label><div class=\"sk-toggleable__content\"><pre>XGBRegressor(base_score=None, booster=None, callbacks=None,\n",
       "             colsample_bylevel=None, colsample_bynode=None,\n",
       "             colsample_bytree=None, early_stopping_rounds=None,\n",
       "             enable_categorical=False, eval_metric=&#x27;rmsle&#x27;, feature_types=None,\n",
       "             gamma=None, gpu_id=None, grow_policy=None, importance_type=None,\n",
       "             interaction_constraints=None, learning_rate=None, max_bin=None,\n",
       "             max_cat_threshold=None, max_cat_to_onehot=None,\n",
       "             max_delta_step=None, max_depth=None, max_leaves=None,\n",
       "             min_child_weight=None, missing=nan, monotone_constraints=None,\n",
       "             n_estimators=100, n_jobs=None, num_parallel_tree=None,\n",
       "             objective=&#x27;reg:squaredlogerror&#x27;, predictor=None, ...)</pre></div></div></div></div></div>"
      ],
      "text/plain": [
       "XGBRegressor(base_score=None, booster=None, callbacks=None,\n",
       "             colsample_bylevel=None, colsample_bynode=None,\n",
       "             colsample_bytree=None, early_stopping_rounds=None,\n",
       "             enable_categorical=False, eval_metric='rmsle', feature_types=None,\n",
       "             gamma=None, gpu_id=None, grow_policy=None, importance_type=None,\n",
       "             interaction_constraints=None, learning_rate=None, max_bin=None,\n",
       "             max_cat_threshold=None, max_cat_to_onehot=None,\n",
       "             max_delta_step=None, max_depth=None, max_leaves=None,\n",
       "             min_child_weight=None, missing=nan, monotone_constraints=None,\n",
       "             n_estimators=100, n_jobs=None, num_parallel_tree=None,\n",
       "             objective='reg:squaredlogerror', predictor=None, ...)"
      ]
     },
     "execution_count": 12,
     "metadata": {},
     "output_type": "execute_result"
    }
   ],
   "source": [
    "model = xgb.XGBRegressor(objective='reg:squaredlogerror', eval_metric='rmsle')\n",
    "model.fit(X_train, y_train_log)"
   ]
  },
  {
   "cell_type": "code",
   "execution_count": 13,
   "metadata": {},
   "outputs": [],
   "source": [
    "y_pred = np.expm1(model.predict(X_test))"
   ]
  },
  {
   "cell_type": "code",
   "execution_count": 14,
   "metadata": {},
   "outputs": [],
   "source": [
    "rmse = mean_squared_error(y_test, y_pred, squared=False)\n",
    "mae = mean_absolute_error(y_test, y_pred)\n",
    "mape = mean_absolute_percentage_error(y_test, y_pred)"
   ]
  },
  {
   "cell_type": "code",
   "execution_count": 15,
   "metadata": {},
   "outputs": [
    {
     "data": {
      "text/plain": [
       "0.7126124916014759"
      ]
     },
     "execution_count": 15,
     "metadata": {},
     "output_type": "execute_result"
    }
   ],
   "source": [
    "mape"
   ]
  },
  {
   "cell_type": "code",
   "execution_count": 16,
   "metadata": {},
   "outputs": [
    {
     "data": {
      "text/plain": [
       "471752.96318318334"
      ]
     },
     "execution_count": 16,
     "metadata": {},
     "output_type": "execute_result"
    }
   ],
   "source": [
    "rmse"
   ]
  },
  {
   "cell_type": "code",
   "execution_count": 17,
   "metadata": {},
   "outputs": [
    {
     "data": {
      "text/plain": [
       "176071.32631181853"
      ]
     },
     "execution_count": 17,
     "metadata": {},
     "output_type": "execute_result"
    }
   ],
   "source": [
    "mae"
   ]
  },
  {
   "attachments": {},
   "cell_type": "markdown",
   "metadata": {},
   "source": [
    "## Optimization"
   ]
  },
  {
   "cell_type": "code",
   "execution_count": 18,
   "metadata": {},
   "outputs": [],
   "source": [
    "search_spaces = {\n",
    "    'boosting_type': Categorical(['gbdt']),\n",
    "    'num_leaves': Integer(20, 200),\n",
    "    'learning_rate': Real(0.01, 0.2, 'log-uniform'),\n",
    "    'n_estimators': Integer(50, 1000),\n",
    "    'max_depth': Integer(5, 50),\n",
    "    'min_data_in_leaf': Integer(10, 300),\n",
    "    'max_bin': Integer(100, 400),\n",
    "    'feature_fraction': Real(0.6, 1.0, 'uniform'),\n",
    "    'bagging_fraction': Real(0.6, 1.0, 'uniform'),\n",
    "    'bagging_freq': Integer(0, 20),\n",
    "    'min_sum_hessian_in_leaf': Real(0, 10),\n",
    "    'lambda_l1': Real(1e-10, 1000, 'log-uniform'),\n",
    "    'lambda_l2': Real(1e-10, 1000, 'log-uniform'),\n",
    "    'min_gain_to_split': Real(0, 0.7),\n",
    "}"
   ]
  },
  {
   "cell_type": "code",
   "execution_count": 19,
   "metadata": {},
   "outputs": [
    {
     "name": "stdout",
     "output_type": "stream",
     "text": [
      "[19:19:01] WARNING: C:\\buildkite-agent\\builds\\buildkite-windows-cpu-autoscaling-group-i-07593ffd91cd9da33-1\\xgboost\\xgboost-ci-windows\\src\\learner.cc:767: \n",
      "Parameters: { \"bagging_fraction\", \"bagging_freq\", \"boosting_type\", \"feature_fraction\", \"lambda_l1\", \"lambda_l2\", \"min_data_in_leaf\", \"min_gain_to_split\", \"min_sum_hessian_in_leaf\", \"num_leaves\" } are not used.\n",
      "\n",
      "Best parameters are:  OrderedDict([('bagging_fraction', 0.8882279301488603), ('bagging_freq', 17), ('boosting_type', 'gbdt'), ('feature_fraction', 0.688601808909624), ('lambda_l1', 0.0006467083524622424), ('lambda_l2', 6.749913929913895), ('learning_rate', 0.08350871031077754), ('max_bin', 245), ('max_depth', 49), ('min_data_in_leaf', 210), ('min_gain_to_split', 0.05003162754316807), ('min_sum_hessian_in_leaf', 2.9081709094407615), ('n_estimators', 616), ('num_leaves', 63)])\n"
     ]
    }
   ],
   "source": [
    "boost = xgb.XGBRegressor(objective='reg:squaredlogerror', eval_metric='rmsle')\n",
    "\n",
    "optimizer = BayesSearchCV(\n",
    "    boost,\n",
    "    search_spaces,\n",
    "    n_iter=25,\n",
    "    cv=5,\n",
    "    n_jobs=-1  # Use all available cores\n",
    ")\n",
    "\n",
    "optimizer.fit(X_train, y_train_log)\n",
    "\n",
    "print(\"Best parameters are: \", optimizer.best_params_)"
   ]
  },
  {
   "cell_type": "code",
   "execution_count": 20,
   "metadata": {},
   "outputs": [
    {
     "name": "stdout",
     "output_type": "stream",
     "text": [
      "[19:19:14] WARNING: C:\\buildkite-agent\\builds\\buildkite-windows-cpu-autoscaling-group-i-07593ffd91cd9da33-1\\xgboost\\xgboost-ci-windows\\src\\learner.cc:767: \n",
      "Parameters: { \"bagging_fraction\", \"bagging_freq\", \"boosting_type\", \"feature_fraction\", \"lambda_l1\", \"lambda_l2\", \"min_data_in_leaf\", \"min_gain_to_split\", \"min_sum_hessian_in_leaf\", \"num_leaves\" } are not used.\n",
      "\n"
     ]
    },
    {
     "data": {
      "text/html": [
       "<style>#sk-container-id-2 {color: black;background-color: white;}#sk-container-id-2 pre{padding: 0;}#sk-container-id-2 div.sk-toggleable {background-color: white;}#sk-container-id-2 label.sk-toggleable__label {cursor: pointer;display: block;width: 100%;margin-bottom: 0;padding: 0.3em;box-sizing: border-box;text-align: center;}#sk-container-id-2 label.sk-toggleable__label-arrow:before {content: \"▸\";float: left;margin-right: 0.25em;color: #696969;}#sk-container-id-2 label.sk-toggleable__label-arrow:hover:before {color: black;}#sk-container-id-2 div.sk-estimator:hover label.sk-toggleable__label-arrow:before {color: black;}#sk-container-id-2 div.sk-toggleable__content {max-height: 0;max-width: 0;overflow: hidden;text-align: left;background-color: #f0f8ff;}#sk-container-id-2 div.sk-toggleable__content pre {margin: 0.2em;color: black;border-radius: 0.25em;background-color: #f0f8ff;}#sk-container-id-2 input.sk-toggleable__control:checked~div.sk-toggleable__content {max-height: 200px;max-width: 100%;overflow: auto;}#sk-container-id-2 input.sk-toggleable__control:checked~label.sk-toggleable__label-arrow:before {content: \"▾\";}#sk-container-id-2 div.sk-estimator input.sk-toggleable__control:checked~label.sk-toggleable__label {background-color: #d4ebff;}#sk-container-id-2 div.sk-label input.sk-toggleable__control:checked~label.sk-toggleable__label {background-color: #d4ebff;}#sk-container-id-2 input.sk-hidden--visually {border: 0;clip: rect(1px 1px 1px 1px);clip: rect(1px, 1px, 1px, 1px);height: 1px;margin: -1px;overflow: hidden;padding: 0;position: absolute;width: 1px;}#sk-container-id-2 div.sk-estimator {font-family: monospace;background-color: #f0f8ff;border: 1px dotted black;border-radius: 0.25em;box-sizing: border-box;margin-bottom: 0.5em;}#sk-container-id-2 div.sk-estimator:hover {background-color: #d4ebff;}#sk-container-id-2 div.sk-parallel-item::after {content: \"\";width: 100%;border-bottom: 1px solid gray;flex-grow: 1;}#sk-container-id-2 div.sk-label:hover label.sk-toggleable__label {background-color: #d4ebff;}#sk-container-id-2 div.sk-serial::before {content: \"\";position: absolute;border-left: 1px solid gray;box-sizing: border-box;top: 0;bottom: 0;left: 50%;z-index: 0;}#sk-container-id-2 div.sk-serial {display: flex;flex-direction: column;align-items: center;background-color: white;padding-right: 0.2em;padding-left: 0.2em;position: relative;}#sk-container-id-2 div.sk-item {position: relative;z-index: 1;}#sk-container-id-2 div.sk-parallel {display: flex;align-items: stretch;justify-content: center;background-color: white;position: relative;}#sk-container-id-2 div.sk-item::before, #sk-container-id-2 div.sk-parallel-item::before {content: \"\";position: absolute;border-left: 1px solid gray;box-sizing: border-box;top: 0;bottom: 0;left: 50%;z-index: -1;}#sk-container-id-2 div.sk-parallel-item {display: flex;flex-direction: column;z-index: 1;position: relative;background-color: white;}#sk-container-id-2 div.sk-parallel-item:first-child::after {align-self: flex-end;width: 50%;}#sk-container-id-2 div.sk-parallel-item:last-child::after {align-self: flex-start;width: 50%;}#sk-container-id-2 div.sk-parallel-item:only-child::after {width: 0;}#sk-container-id-2 div.sk-dashed-wrapped {border: 1px dashed gray;margin: 0 0.4em 0.5em 0.4em;box-sizing: border-box;padding-bottom: 0.4em;background-color: white;}#sk-container-id-2 div.sk-label label {font-family: monospace;font-weight: bold;display: inline-block;line-height: 1.2em;}#sk-container-id-2 div.sk-label-container {text-align: center;}#sk-container-id-2 div.sk-container {/* jupyter's `normalize.less` sets `[hidden] { display: none; }` but bootstrap.min.css set `[hidden] { display: none !important; }` so we also need the `!important` here to be able to override the default hidden behavior on the sphinx rendered scikit-learn.org. See: https://github.com/scikit-learn/scikit-learn/issues/21755 */display: inline-block !important;position: relative;}#sk-container-id-2 div.sk-text-repr-fallback {display: none;}</style><div id=\"sk-container-id-2\" class=\"sk-top-container\"><div class=\"sk-text-repr-fallback\"><pre>XGBRegressor(bagging_fraction=0.8882279301488603, bagging_freq=17,\n",
       "             base_score=None, booster=None, boosting_type=&#x27;gbdt&#x27;,\n",
       "             callbacks=None, colsample_bylevel=None, colsample_bynode=None,\n",
       "             colsample_bytree=None, early_stopping_rounds=None,\n",
       "             enable_categorical=False, eval_metric=&#x27;rmsle&#x27;,\n",
       "             feature_fraction=0.688601808909624, feature_types=None, gamma=None,\n",
       "             gpu_id=None, grow_policy=None, importance_type=None,\n",
       "             interaction_constraints=None, lambda_l1=0.0006467083524622424,\n",
       "             lambda_l2=6.749913929913895, learning_rate=0.08350871031077754,\n",
       "             max_bin=245, max_cat_threshold=None, max_cat_to_onehot=None,\n",
       "             max_delta_step=None, max_depth=49, max_leaves=None,\n",
       "             min_child_weight=None, min_data_in_leaf=210, ...)</pre><b>In a Jupyter environment, please rerun this cell to show the HTML representation or trust the notebook. <br />On GitHub, the HTML representation is unable to render, please try loading this page with nbviewer.org.</b></div><div class=\"sk-container\" hidden><div class=\"sk-item\"><div class=\"sk-estimator sk-toggleable\"><input class=\"sk-toggleable__control sk-hidden--visually\" id=\"sk-estimator-id-2\" type=\"checkbox\" checked><label for=\"sk-estimator-id-2\" class=\"sk-toggleable__label sk-toggleable__label-arrow\">XGBRegressor</label><div class=\"sk-toggleable__content\"><pre>XGBRegressor(bagging_fraction=0.8882279301488603, bagging_freq=17,\n",
       "             base_score=None, booster=None, boosting_type=&#x27;gbdt&#x27;,\n",
       "             callbacks=None, colsample_bylevel=None, colsample_bynode=None,\n",
       "             colsample_bytree=None, early_stopping_rounds=None,\n",
       "             enable_categorical=False, eval_metric=&#x27;rmsle&#x27;,\n",
       "             feature_fraction=0.688601808909624, feature_types=None, gamma=None,\n",
       "             gpu_id=None, grow_policy=None, importance_type=None,\n",
       "             interaction_constraints=None, lambda_l1=0.0006467083524622424,\n",
       "             lambda_l2=6.749913929913895, learning_rate=0.08350871031077754,\n",
       "             max_bin=245, max_cat_threshold=None, max_cat_to_onehot=None,\n",
       "             max_delta_step=None, max_depth=49, max_leaves=None,\n",
       "             min_child_weight=None, min_data_in_leaf=210, ...)</pre></div></div></div></div></div>"
      ],
      "text/plain": [
       "XGBRegressor(bagging_fraction=0.8882279301488603, bagging_freq=17,\n",
       "             base_score=None, booster=None, boosting_type='gbdt',\n",
       "             callbacks=None, colsample_bylevel=None, colsample_bynode=None,\n",
       "             colsample_bytree=None, early_stopping_rounds=None,\n",
       "             enable_categorical=False, eval_metric='rmsle',\n",
       "             feature_fraction=0.688601808909624, feature_types=None, gamma=None,\n",
       "             gpu_id=None, grow_policy=None, importance_type=None,\n",
       "             interaction_constraints=None, lambda_l1=0.0006467083524622424,\n",
       "             lambda_l2=6.749913929913895, learning_rate=0.08350871031077754,\n",
       "             max_bin=245, max_cat_threshold=None, max_cat_to_onehot=None,\n",
       "             max_delta_step=None, max_depth=49, max_leaves=None,\n",
       "             min_child_weight=None, min_data_in_leaf=210, ...)"
      ]
     },
     "execution_count": 20,
     "metadata": {},
     "output_type": "execute_result"
    }
   ],
   "source": [
    "reg = xgb.XGBRegressor(objective='reg:squaredlogerror', eval_metric='rmsle', **optimizer.best_params_)\n",
    "reg.fit(X_train, y_train_log)"
   ]
  },
  {
   "attachments": {},
   "cell_type": "markdown",
   "metadata": {},
   "source": [
    "## Eval"
   ]
  },
  {
   "cell_type": "code",
   "execution_count": 21,
   "metadata": {},
   "outputs": [],
   "source": [
    "def scores(true, pred):\n",
    "    rmse = mean_squared_error(true, pred, squared=False)\n",
    "    mae = mean_absolute_error(true, pred)\n",
    "    mape = mean_absolute_percentage_error(true, pred)\n",
    "    print(f\"rsme: {rmse}, mae: {mae}, mape: {mape}\")"
   ]
  },
  {
   "cell_type": "code",
   "execution_count": 22,
   "metadata": {},
   "outputs": [
    {
     "name": "stdout",
     "output_type": "stream",
     "text": [
      "rsme: 3650986.062851505, mae: 1132629.3482082633, mape: 0.29236862778048506\n"
     ]
    }
   ],
   "source": [
    "pred_train = np.expm1(reg.predict(X_train), dtype=np.float64)\n",
    "scores(y_train, pred_train)"
   ]
  },
  {
   "cell_type": "code",
   "execution_count": 23,
   "metadata": {},
   "outputs": [
    {
     "name": "stdout",
     "output_type": "stream",
     "text": [
      "rsme: 470173.1857230602, mae: 175105.68762530648, mape: 0.7020878349731303\n"
     ]
    }
   ],
   "source": [
    "pred_test = np.expm1(reg.predict(X_test), dtype=np.float64)\n",
    "scores(y_test, pred_test)"
   ]
  },
  {
   "cell_type": "code",
   "execution_count": 24,
   "metadata": {},
   "outputs": [
    {
     "name": "stderr",
     "output_type": "stream",
     "text": [
      "ntree_limit is deprecated, use `iteration_range` or model slicing instead.\n"
     ]
    }
   ],
   "source": [
    "explainer = shap.TreeExplainer(reg)\n",
    "\n",
    "shap_values = explainer.shap_values(X_test)"
   ]
  },
  {
   "cell_type": "code",
   "execution_count": 25,
   "metadata": {},
   "outputs": [
    {
     "data": {
      "text/html": [
       "\n",
       "<div id='iOL2L7M9J9IPNFVVVIERJ'>\n",
       "<div style='color: #900; text-align: center;'>\n",
       "  <b>Visualization omitted, Javascript library not loaded!</b><br>\n",
       "  Have you run `initjs()` in this notebook? If this notebook was from another\n",
       "  user you must also trust this notebook (File -> Trust notebook). If you are viewing\n",
       "  this notebook on github the Javascript has been stripped for security. If you are using\n",
       "  JupyterLab this error is because a JupyterLab extension has not yet been written.\n",
       "</div></div>\n",
       " <script>\n",
       "   if (window.SHAP) SHAP.ReactDom.render(\n",
       "    SHAP.React.createElement(SHAP.AdditiveForceVisualizer, {\"outNames\": [\"f(x)\"], \"baseValue\": 13.84663200378418, \"outValue\": 12.700910568237305, \"link\": \"identity\", \"featureNames\": [\"Age\", \"Nationality\", \"Height\", \"Weight\", \"Team\", \"Skill\", \"Pot\", \"Current_Fee\", \"num_trophies\", \"Preferred_foot\", \"Best_Playing_Role\", \"Matches_played\", \"Minutes_played\", \"Goals\", \"Assists\", \"Yellow_Cards\", \"Red_Cards\", \"Shots\", \"Penalties\", \"Expected_Goals\", \"Attacking_Challenges\", \"Passes\", \"Key_Passes\", \"Crosses\", \"Offsides\", \"Ball_Recoveries\", \"Ball_Recoveries_Opponent\", \"Challenges\", \"Air_Challenges\", \"Tackles\", \"Ball_Interceptions\", \"Lost_Balls\", \"Lost_Balls_Own\", \"Errors_to_Goal\"], \"features\": {\"0\": {\"effect\": 0.039803605526685715, \"value\": 29.0}, \"1\": {\"effect\": -0.15326768159866333, \"value\": 124.0}, \"2\": {\"effect\": 0.04252791032195091, \"value\": 192.0}, \"3\": {\"effect\": 0.0028208827134221792, \"value\": 82.0}, \"4\": {\"effect\": 0.06008961796760559, \"value\": 337.0}, \"5\": {\"effect\": -0.040195539593696594, \"value\": 52.9}, \"6\": {\"effect\": 0.04323006048798561, \"value\": 53.5}, \"7\": {\"effect\": -0.9170123338699341, \"value\": 11.51293546492023}, \"8\": {\"effect\": -0.00013684322766494006, \"value\": 0.0}, \"9\": {\"effect\": -0.053001198917627335, \"value\": 0.0}, \"10\": {\"effect\": -0.04786957427859306, \"value\": 12.0}, \"11\": {\"effect\": -0.002984949853271246, \"value\": 6.0}, \"12\": {\"effect\": 0.0006146234809421003, \"value\": 596.0}, \"13\": {\"effect\": -0.00495539978146553, \"value\": 0.0}, \"14\": {\"effect\": -0.003189419861882925, \"value\": 0.0}, \"15\": {\"effect\": -0.0009998849127441645, \"value\": 0.0}, \"16\": {\"effect\": 0.001312641310505569, \"value\": 0.0}, \"17\": {\"effect\": 0.0028713771607726812, \"value\": 0.0}, \"18\": {\"effect\": 0.0017292756820097566, \"value\": 0.0}, \"19\": {\"effect\": -0.001350537408143282, \"value\": 0.0}, \"20\": {\"effect\": -0.06640970706939697, \"value\": 0.0}, \"21\": {\"effect\": -0.028093257918953896, \"value\": 162.0}, \"22\": {\"effect\": -0.014333507977426052, \"value\": 0.0}, \"23\": {\"effect\": 0.0008681480539962649, \"value\": 0.0}, \"24\": {\"effect\": 0.0011382532538846135, \"value\": 0.0}, \"25\": {\"effect\": -0.0018843014258891344, \"value\": 40.0}, \"26\": {\"effect\": -0.004112922586500645, \"value\": 0.0}, \"27\": {\"effect\": -0.022599268704652786, \"value\": 3.0}, \"28\": {\"effect\": 0.028911322355270386, \"value\": 2.0}, \"29\": {\"effect\": -0.028352243825793266, \"value\": 1.0}, \"30\": {\"effect\": 0.015305704437196255, \"value\": 17.0}, \"31\": {\"effect\": 0.013409889303147793, \"value\": 22.0}, \"32\": {\"effect\": -0.007104013115167618, \"value\": 4.0}, \"33\": {\"effect\": -0.0025023941416293383, \"value\": 3.0}}, \"plot_cmap\": \"RdBu\", \"labelMargin\": 20}),\n",
       "    document.getElementById('iOL2L7M9J9IPNFVVVIERJ')\n",
       "  );\n",
       "</script>"
      ],
      "text/plain": [
       "<shap.plots._force.AdditiveForceVisualizer at 0x28d9f3eaac0>"
      ]
     },
     "execution_count": 25,
     "metadata": {},
     "output_type": "execute_result"
    }
   ],
   "source": [
    "shap.force_plot(explainer.expected_value, shap_values[0], X_test.iloc[0])"
   ]
  },
  {
   "cell_type": "code",
   "execution_count": 34,
   "metadata": {},
   "outputs": [
    {
     "data": {
      "text/plain": [
       "327746.9018738116"
      ]
     },
     "execution_count": 34,
     "metadata": {},
     "output_type": "execute_result"
    }
   ],
   "source": [
    "np.expm1(12.70)"
   ]
  },
  {
   "cell_type": "code",
   "execution_count": 27,
   "metadata": {},
   "outputs": [
    {
     "data": {
      "text/plain": [
       "400000.0"
      ]
     },
     "execution_count": 27,
     "metadata": {},
     "output_type": "execute_result"
    }
   ],
   "source": [
    "y_test.iloc[0]"
   ]
  },
  {
   "cell_type": "code",
   "execution_count": 28,
   "metadata": {},
   "outputs": [
    {
     "data": {
      "image/png": "[encoded data removed]",
      "text/plain": [
       "<Figure size 800x950 with 1 Axes>"
      ]
     },
     "metadata": {},
     "output_type": "display_data"
    }
   ],
   "source": [
    "shap.summary_plot(shap_values, X.columns)"
   ]
  },
  {
   "cell_type": "code",
   "execution_count": 33,
   "metadata": {},
   "outputs": [
    {
     "data": {
      "image/png": "[encoded data removed]",
      "text/plain": [
       "<Figure size 640x480 with 1 Axes>"
      ]
     },
     "metadata": {},
     "output_type": "display_data"
    }
   ],
   "source": [
    "plt.scatter(y_test, pred_test)\n",
    "plt.xlabel(\"True Values\")\n",
    "plt.ylabel(\"Predicted Values\")\n",
    "plt.title(\"True vs. Predicted Values\")\n",
    "plt.plot([min(y_test), max(y_test)], [min(y_test), max(y_test)], color='red')\n",
    "plt.show()"
   ]
  },
  {
   "cell_type": "code",
   "execution_count": null,
   "metadata": {},
   "outputs": [],
   "source": []
  }
 ],
 "metadata": {
  "kernelspec": {
   "display_name": "xgboost",
   "language": "python",
   "name": "python3"
  },
  "language_info": {
   "codemirror_mode": {
    "name": "ipython",
    "version": 3
   },
   "file_extension": ".py",
   "mimetype": "text/x-python",
   "name": "python",
   "nbconvert_exporter": "python",
   "pygments_lexer": "ipython3",
   "version": "3.9.12"
  },
  "orig_nbformat": 4
 },
 "nbformat": 4,
 "nbformat_minor": 2
}
